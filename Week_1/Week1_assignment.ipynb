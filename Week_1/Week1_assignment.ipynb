{
 "cells": [
  {
   "cell_type": "markdown",
   "metadata": {},
   "source": [
    "# Week1 Assignment\n",
    "Read from the csv file and check if the numbers are prime or composite or none of these.\n",
    "Try to stick as per the workflow in Week1_Class3.ipynb"
   ]
  },
  {
   "cell_type": "code",
   "execution_count": 1,
   "metadata": {
    "collapsed": true
   },
   "outputs": [],
   "source": [
    "import csv\n",
    "\n",
    "%precision 2\n",
    "\n",
    "with open('numberlist.csv') as csvfile:\n",
    "    numberlist = list(csv.DictReader(csvfile))"
   ]
  },
  {
   "cell_type": "code",
   "execution_count": 3,
   "metadata": {},
   "outputs": [
    {
     "data": {
      "text/plain": [
       "99"
      ]
     },
     "execution_count": 3,
     "metadata": {},
     "output_type": "execute_result"
    }
   ],
   "source": [
    "datalen=len(numberlist)\n",
    "datalen"
   ]
  },
  {
   "cell_type": "markdown",
   "metadata": {},
   "source": [
    "Here you write your function to check if a given no. is prime or not :"
   ]
  },
  {
   "cell_type": "code",
   "execution_count": null,
   "metadata": {
    "collapsed": true
   },
   "outputs": [],
   "source": [
    "def findtype(self, inputnumber): \n",
    "    #Here you write the code(for loop) for checking if inputnumber which is taken as argument to this function is prime or composite or not \n",
    "    #...\n",
    "    #...\n",
    "    #and report it as self.type variable, for example:\n",
    "        \n",
    "    #if inputnumber is prime\n",
    "    self.type = 'prime'\n",
    "    #else if inputnumber is compostite\n",
    "    self.type = 'composite'\n",
    "    #else\n",
    "    self.type = 'NA'\n",
    "        \n",
    "        "
   ]
  },
  {
   "cell_type": "markdown",
   "metadata": {},
   "source": [
    "Now that you have written your function, iterate through the csv file and use your function to check if the nos. in csv file are prime:"
   ]
  },
  {
   "cell_type": "code",
   "execution_count": null,
   "metadata": {
    "collapsed": true
   },
   "outputs": [],
   "source": []
  }
 ],
 "metadata": {
  "kernelspec": {
   "display_name": "Python 2",
   "language": "python",
   "name": "python2"
  },
  "language_info": {
   "codemirror_mode": {
    "name": "ipython",
    "version": 2
   },
   "file_extension": ".py",
   "mimetype": "text/x-python",
   "name": "python",
   "nbconvert_exporter": "python",
   "pygments_lexer": "ipython2",
   "version": "2.7.12"
  }
 },
 "nbformat": 4,
 "nbformat_minor": 2
}
