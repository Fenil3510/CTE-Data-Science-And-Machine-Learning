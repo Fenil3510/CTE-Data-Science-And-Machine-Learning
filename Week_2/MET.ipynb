{
 "cells": [
  {
   "cell_type": "code",
   "execution_count": 15,
   "metadata": {},
   "outputs": [],
   "source": [
    "import numpy as np"
   ]
  },
  {
   "cell_type": "code",
   "execution_count": 34,
   "metadata": {},
   "outputs": [],
   "source": [
    "k = np.random.randn(1000,1000)*5000"
   ]
  },
  {
   "cell_type": "code",
   "execution_count": 35,
   "metadata": {},
   "outputs": [],
   "source": [
    "k_fix = k"
   ]
  },
  {
   "cell_type": "code",
   "execution_count": 36,
   "metadata": {},
   "outputs": [
    {
     "data": {
      "text/plain": [
       "(1000, 1000)"
      ]
     },
     "execution_count": 36,
     "metadata": {},
     "output_type": "execute_result"
    }
   ],
   "source": [
    "k.shape"
   ]
  },
  {
   "cell_type": "code",
   "execution_count": 37,
   "metadata": {},
   "outputs": [
    {
     "name": "stderr",
     "output_type": "stream",
     "text": [
      "/anaconda/lib/python3.6/site-packages/ipykernel/__main__.py:2: RuntimeWarning: overflow encountered in multiply\n",
      "  from ipykernel import kernelapp as app\n"
     ]
    }
   ],
   "source": [
    "for i in range(1,1000):\n",
    "    k = k_fix*k"
   ]
  },
  {
   "cell_type": "code",
   "execution_count": 1,
   "metadata": {},
   "outputs": [],
   "source": [
    "def matmul_sub(x,y):\n",
    "    length = len(x[0])\n",
    "    product = []\n",
    "    for k in range(length):\n",
    "        temp_row = []\n",
    "        for j in range(length):\n",
    "            temp_sum = 0\n",
    "            for i in range(length):\n",
    "                temp_sum = temp_sum + y[i][j]*x[k][i]\n",
    "            temp_row.append(temp_sum)\n",
    "        product.append(temp_row)\n",
    "    return product"
   ]
  },
  {
   "cell_type": "code",
   "execution_count": 23,
   "metadata": {},
   "outputs": [],
   "source": [
    "def met(x,y):\n",
    "    if y == 0:\n",
    "        result = 1\n",
    "        return result\n",
    "    elif y == 1:\n",
    "        result = x\n",
    "        return result\n",
    "    else:\n",
    "        if(y%2 == 0):\n",
    "            result = met(x,y//2)\n",
    "            return matmul_sub(result,result)\n",
    "        elif(y%2 != 0):\n",
    "            result = met(x,y//2)\n",
    "            temp = matmul_sub(result,result)\n",
    "            return matmul_sub(temp,x)"
   ]
  },
  {
   "cell_type": "code",
   "execution_count": null,
   "metadata": {},
   "outputs": [],
   "source": [
    "#Number of ways of travelling (0,0) to (m-1,n-1) with blockages\n",
    "def numways(matrix):\n",
    "    #done"
   ]
  },
  {
   "cell_type": "code",
   "execution_count": 42,
   "metadata": {},
   "outputs": [],
   "source": [
    "def coinways(n,coins):\n",
    "    fin_array = [0]*(n+1)\n",
    "    fin_array[0] = 1\n",
    "    for i in range(len(coins)):\n",
    "        for j in range(coins[i],len(fin_array)):\n",
    "            fin_array[j] +=  fin_array[j-coins[i]]\n",
    "    return fin_array"
   ]
  }
 ],
 "metadata": {
  "kernelspec": {
   "display_name": "Python [conda root]",
   "language": "python",
   "name": "conda-root-py"
  },
  "language_info": {
   "codemirror_mode": {
    "name": "ipython",
    "version": 3
   },
   "file_extension": ".py",
   "mimetype": "text/x-python",
   "name": "python",
   "nbconvert_exporter": "python",
   "pygments_lexer": "ipython3",
   "version": "3.6.5"
  }
 },
 "nbformat": 4,
 "nbformat_minor": 2
}
