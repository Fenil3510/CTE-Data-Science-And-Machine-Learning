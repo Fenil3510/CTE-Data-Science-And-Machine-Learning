{
 "cells": [
  {
   "cell_type": "code",
   "execution_count": 1,
   "metadata": {},
   "outputs": [],
   "source": [
    "%store -r __toolboxforsalesdata"
   ]
  },
  {
   "cell_type": "code",
   "execution_count": 2,
   "metadata": {},
   "outputs": [
    {
     "name": "stderr",
     "output_type": "stream",
     "text": [
      "/anaconda/lib/python3.6/site-packages/sklearn/cross_validation.py:41: DeprecationWarning: This module was deprecated in version 0.18 in favor of the model_selection module into which all the refactored classes and functions are moved. Also note that the interface of the new CV iterators are different from that of this module. This module will be removed in 0.20.\n",
      "  \"This module will be removed in 0.20.\", DeprecationWarning)\n",
      "/anaconda/lib/python3.6/site-packages/sklearn/ensemble/weight_boosting.py:29: DeprecationWarning: numpy.core.umath_tests is an internal NumPy module and should not be imported. It will be removed in a future NumPy release.\n",
      "  from numpy.core.umath_tests import inner1d\n"
     ]
    }
   ],
   "source": [
    "__toolboxforsalesdata"
   ]
  },
  {
   "cell_type": "code",
   "execution_count": null,
   "metadata": {},
   "outputs": [],
   "source": [
    "#Todo , Add Libraries above, which are required in notebook."
   ]
  },
  {
   "cell_type": "code",
   "execution_count": 285,
   "metadata": {},
   "outputs": [],
   "source": [
    "#Real Notebook"
   ]
  },
  {
   "cell_type": "markdown",
   "metadata": {},
   "source": [
    "### We have to predict Kobe Bryant the legend when shoots, will he score a goal or not?\n",
    "### That is  --> what all factors were involved when Kobe Bryant scored a goal in his career.\n",
    "### Can we use ML to predict if he will score when he shoots, given the factors involved?\n",
    "### Its a yes/no variable.\n",
    "### So task is binary classification."
   ]
  },
  {
   "cell_type": "code",
   "execution_count": 436,
   "metadata": {},
   "outputs": [],
   "source": [
    "train_set = pd.read_csv('train_set.csv')"
   ]
  },
  {
   "cell_type": "code",
   "execution_count": 437,
   "metadata": {},
   "outputs": [],
   "source": [
    "X_test = pd.read_csv('X_test.csv')"
   ]
  },
  {
   "cell_type": "code",
   "execution_count": 438,
   "metadata": {},
   "outputs": [
    {
     "data": {
      "text/html": [
       "<div>\n",
       "<style>\n",
       "    .dataframe thead tr:only-child th {\n",
       "        text-align: right;\n",
       "    }\n",
       "\n",
       "    .dataframe thead th {\n",
       "        text-align: left;\n",
       "    }\n",
       "\n",
       "    .dataframe tbody tr th {\n",
       "        vertical-align: top;\n",
       "    }\n",
       "</style>\n",
       "<table border=\"1\" class=\"dataframe\">\n",
       "  <thead>\n",
       "    <tr style=\"text-align: right;\">\n",
       "      <th></th>\n",
       "      <th>game_event_id</th>\n",
       "      <th>game_id</th>\n",
       "      <th>lat</th>\n",
       "      <th>loc_x</th>\n",
       "      <th>loc_y</th>\n",
       "      <th>lon</th>\n",
       "      <th>minutes_remaining</th>\n",
       "      <th>period</th>\n",
       "      <th>playoffs</th>\n",
       "      <th>season</th>\n",
       "      <th>seconds_remaining</th>\n",
       "      <th>shot_distance</th>\n",
       "      <th>shot_type</th>\n",
       "      <th>shot_zone_area</th>\n",
       "      <th>shot_zone_range</th>\n",
       "      <th>team_id</th>\n",
       "      <th>team_name</th>\n",
       "      <th>opponent</th>\n",
       "      <th>shot_id</th>\n",
       "      <th>shot_made_flag</th>\n",
       "    </tr>\n",
       "  </thead>\n",
       "  <tbody>\n",
       "    <tr>\n",
       "      <th>0</th>\n",
       "      <td>41</td>\n",
       "      <td>20000936</td>\n",
       "      <td>33.9303</td>\n",
       "      <td>132</td>\n",
       "      <td>114</td>\n",
       "      <td>-118.1378</td>\n",
       "      <td>6</td>\n",
       "      <td>1</td>\n",
       "      <td>0</td>\n",
       "      <td>2000-01</td>\n",
       "      <td>57</td>\n",
       "      <td>17</td>\n",
       "      <td>2PT Field Goal</td>\n",
       "      <td>Right Side Center(RC)</td>\n",
       "      <td>16-24 ft.</td>\n",
       "      <td>1610612747</td>\n",
       "      <td>Los Angeles Lakers</td>\n",
       "      <td>DET</td>\n",
       "      <td>1335</td>\n",
       "      <td>1.0</td>\n",
       "    </tr>\n",
       "    <tr>\n",
       "      <th>1</th>\n",
       "      <td>207</td>\n",
       "      <td>21000610</td>\n",
       "      <td>33.9623</td>\n",
       "      <td>-2</td>\n",
       "      <td>82</td>\n",
       "      <td>-118.2718</td>\n",
       "      <td>3</td>\n",
       "      <td>2</td>\n",
       "      <td>0</td>\n",
       "      <td>2010-11</td>\n",
       "      <td>41</td>\n",
       "      <td>8</td>\n",
       "      <td>2PT Field Goal</td>\n",
       "      <td>Center(C)</td>\n",
       "      <td>8-16 ft.</td>\n",
       "      <td>1610612747</td>\n",
       "      <td>Los Angeles Lakers</td>\n",
       "      <td>OKC</td>\n",
       "      <td>17257</td>\n",
       "      <td>0.0</td>\n",
       "    </tr>\n",
       "    <tr>\n",
       "      <th>2</th>\n",
       "      <td>230</td>\n",
       "      <td>20600598</td>\n",
       "      <td>33.8913</td>\n",
       "      <td>133</td>\n",
       "      <td>153</td>\n",
       "      <td>-118.1368</td>\n",
       "      <td>11</td>\n",
       "      <td>3</td>\n",
       "      <td>0</td>\n",
       "      <td>2006-07</td>\n",
       "      <td>47</td>\n",
       "      <td>20</td>\n",
       "      <td>2PT Field Goal</td>\n",
       "      <td>Right Side Center(RC)</td>\n",
       "      <td>16-24 ft.</td>\n",
       "      <td>1610612747</td>\n",
       "      <td>Los Angeles Lakers</td>\n",
       "      <td>NOP</td>\n",
       "      <td>10437</td>\n",
       "      <td>1.0</td>\n",
       "    </tr>\n",
       "    <tr>\n",
       "      <th>3</th>\n",
       "      <td>414</td>\n",
       "      <td>29800452</td>\n",
       "      <td>34.0443</td>\n",
       "      <td>0</td>\n",
       "      <td>0</td>\n",
       "      <td>-118.2698</td>\n",
       "      <td>0</td>\n",
       "      <td>4</td>\n",
       "      <td>0</td>\n",
       "      <td>1998-99</td>\n",
       "      <td>18</td>\n",
       "      <td>0</td>\n",
       "      <td>2PT Field Goal</td>\n",
       "      <td>Center(C)</td>\n",
       "      <td>Less Than 8 ft.</td>\n",
       "      <td>1610612747</td>\n",
       "      <td>Los Angeles Lakers</td>\n",
       "      <td>PHX</td>\n",
       "      <td>24767</td>\n",
       "      <td>0.0</td>\n",
       "    </tr>\n",
       "    <tr>\n",
       "      <th>4</th>\n",
       "      <td>489</td>\n",
       "      <td>41000231</td>\n",
       "      <td>33.8093</td>\n",
       "      <td>102</td>\n",
       "      <td>235</td>\n",
       "      <td>-118.1678</td>\n",
       "      <td>0</td>\n",
       "      <td>4</td>\n",
       "      <td>1</td>\n",
       "      <td>2010-11</td>\n",
       "      <td>2</td>\n",
       "      <td>25</td>\n",
       "      <td>3PT Field Goal</td>\n",
       "      <td>Right Side Center(RC)</td>\n",
       "      <td>24+ ft.</td>\n",
       "      <td>1610612747</td>\n",
       "      <td>Los Angeles Lakers</td>\n",
       "      <td>DAL</td>\n",
       "      <td>29675</td>\n",
       "      <td>0.0</td>\n",
       "    </tr>\n",
       "  </tbody>\n",
       "</table>\n",
       "</div>"
      ],
      "text/plain": [
       "   game_event_id   game_id      lat  loc_x  loc_y       lon  \\\n",
       "0             41  20000936  33.9303    132    114 -118.1378   \n",
       "1            207  21000610  33.9623     -2     82 -118.2718   \n",
       "2            230  20600598  33.8913    133    153 -118.1368   \n",
       "3            414  29800452  34.0443      0      0 -118.2698   \n",
       "4            489  41000231  33.8093    102    235 -118.1678   \n",
       "\n",
       "   minutes_remaining  period  playoffs   season  seconds_remaining  \\\n",
       "0                  6       1         0  2000-01                 57   \n",
       "1                  3       2         0  2010-11                 41   \n",
       "2                 11       3         0  2006-07                 47   \n",
       "3                  0       4         0  1998-99                 18   \n",
       "4                  0       4         1  2010-11                  2   \n",
       "\n",
       "   shot_distance       shot_type         shot_zone_area  shot_zone_range  \\\n",
       "0             17  2PT Field Goal  Right Side Center(RC)        16-24 ft.   \n",
       "1              8  2PT Field Goal              Center(C)         8-16 ft.   \n",
       "2             20  2PT Field Goal  Right Side Center(RC)        16-24 ft.   \n",
       "3              0  2PT Field Goal              Center(C)  Less Than 8 ft.   \n",
       "4             25  3PT Field Goal  Right Side Center(RC)          24+ ft.   \n",
       "\n",
       "      team_id           team_name opponent  shot_id  shot_made_flag  \n",
       "0  1610612747  Los Angeles Lakers      DET     1335             1.0  \n",
       "1  1610612747  Los Angeles Lakers      OKC    17257             0.0  \n",
       "2  1610612747  Los Angeles Lakers      NOP    10437             1.0  \n",
       "3  1610612747  Los Angeles Lakers      PHX    24767             0.0  \n",
       "4  1610612747  Los Angeles Lakers      DAL    29675             0.0  "
      ]
     },
     "execution_count": 438,
     "metadata": {},
     "output_type": "execute_result"
    }
   ],
   "source": [
    "train_set.head()"
   ]
  },
  {
   "cell_type": "code",
   "execution_count": 439,
   "metadata": {},
   "outputs": [
    {
     "data": {
      "text/plain": [
       "(17216, 20)"
      ]
     },
     "execution_count": 439,
     "metadata": {},
     "output_type": "execute_result"
    }
   ],
   "source": [
    "train_set.shape"
   ]
  },
  {
   "cell_type": "code",
   "execution_count": 440,
   "metadata": {},
   "outputs": [
    {
     "data": {
      "text/plain": [
       "(8481, 19)"
      ]
     },
     "execution_count": 440,
     "metadata": {},
     "output_type": "execute_result"
    }
   ],
   "source": [
    "X_test.shape"
   ]
  },
  {
   "cell_type": "code",
   "execution_count": 441,
   "metadata": {},
   "outputs": [
    {
     "data": {
      "text/html": [
       "<div>\n",
       "<style>\n",
       "    .dataframe thead tr:only-child th {\n",
       "        text-align: right;\n",
       "    }\n",
       "\n",
       "    .dataframe thead th {\n",
       "        text-align: left;\n",
       "    }\n",
       "\n",
       "    .dataframe tbody tr th {\n",
       "        vertical-align: top;\n",
       "    }\n",
       "</style>\n",
       "<table border=\"1\" class=\"dataframe\">\n",
       "  <thead>\n",
       "    <tr style=\"text-align: right;\">\n",
       "      <th></th>\n",
       "      <th>game_event_id</th>\n",
       "      <th>game_id</th>\n",
       "      <th>lat</th>\n",
       "      <th>loc_x</th>\n",
       "      <th>loc_y</th>\n",
       "      <th>lon</th>\n",
       "      <th>minutes_remaining</th>\n",
       "      <th>period</th>\n",
       "      <th>playoffs</th>\n",
       "      <th>seconds_remaining</th>\n",
       "      <th>shot_distance</th>\n",
       "      <th>team_id</th>\n",
       "      <th>shot_id</th>\n",
       "      <th>shot_made_flag</th>\n",
       "    </tr>\n",
       "  </thead>\n",
       "  <tbody>\n",
       "    <tr>\n",
       "      <th>count</th>\n",
       "      <td>17216.000000</td>\n",
       "      <td>1.721600e+04</td>\n",
       "      <td>17216.000000</td>\n",
       "      <td>17216.000000</td>\n",
       "      <td>17216.000000</td>\n",
       "      <td>17216.000000</td>\n",
       "      <td>17216.000000</td>\n",
       "      <td>17216.000000</td>\n",
       "      <td>17216.000000</td>\n",
       "      <td>17216.000000</td>\n",
       "      <td>17216.000000</td>\n",
       "      <td>1.721600e+04</td>\n",
       "      <td>17216.000000</td>\n",
       "      <td>17216.000000</td>\n",
       "    </tr>\n",
       "    <tr>\n",
       "      <th>mean</th>\n",
       "      <td>248.911884</td>\n",
       "      <td>2.475939e+07</td>\n",
       "      <td>33.953061</td>\n",
       "      <td>6.869308</td>\n",
       "      <td>91.238557</td>\n",
       "      <td>-118.262931</td>\n",
       "      <td>4.873896</td>\n",
       "      <td>2.516612</td>\n",
       "      <td>0.148467</td>\n",
       "      <td>28.329809</td>\n",
       "      <td>13.412233</td>\n",
       "      <td>1.610613e+09</td>\n",
       "      <td>15338.092821</td>\n",
       "      <td>0.446213</td>\n",
       "    </tr>\n",
       "    <tr>\n",
       "      <th>std</th>\n",
       "      <td>149.796930</td>\n",
       "      <td>7.767366e+06</td>\n",
       "      <td>0.088591</td>\n",
       "      <td>109.734531</td>\n",
       "      <td>88.590678</td>\n",
       "      <td>0.109735</td>\n",
       "      <td>3.456423</td>\n",
       "      <td>1.151020</td>\n",
       "      <td>0.355572</td>\n",
       "      <td>17.529719</td>\n",
       "      <td>9.453346</td>\n",
       "      <td>0.000000e+00</td>\n",
       "      <td>8881.522898</td>\n",
       "      <td>0.497113</td>\n",
       "    </tr>\n",
       "    <tr>\n",
       "      <th>min</th>\n",
       "      <td>2.000000</td>\n",
       "      <td>2.000001e+07</td>\n",
       "      <td>33.253300</td>\n",
       "      <td>-250.000000</td>\n",
       "      <td>-43.000000</td>\n",
       "      <td>-118.519800</td>\n",
       "      <td>0.000000</td>\n",
       "      <td>1.000000</td>\n",
       "      <td>0.000000</td>\n",
       "      <td>0.000000</td>\n",
       "      <td>0.000000</td>\n",
       "      <td>1.610613e+09</td>\n",
       "      <td>2.000000</td>\n",
       "      <td>0.000000</td>\n",
       "    </tr>\n",
       "    <tr>\n",
       "      <th>25%</th>\n",
       "      <td>111.000000</td>\n",
       "      <td>2.050004e+07</td>\n",
       "      <td>33.884300</td>\n",
       "      <td>-66.000000</td>\n",
       "      <td>3.000000</td>\n",
       "      <td>-118.335800</td>\n",
       "      <td>2.000000</td>\n",
       "      <td>1.000000</td>\n",
       "      <td>0.000000</td>\n",
       "      <td>13.000000</td>\n",
       "      <td>5.000000</td>\n",
       "      <td>1.610613e+09</td>\n",
       "      <td>7610.750000</td>\n",
       "      <td>0.000000</td>\n",
       "    </tr>\n",
       "    <tr>\n",
       "      <th>50%</th>\n",
       "      <td>254.000000</td>\n",
       "      <td>2.090038e+07</td>\n",
       "      <td>33.972300</td>\n",
       "      <td>0.000000</td>\n",
       "      <td>72.000000</td>\n",
       "      <td>-118.269800</td>\n",
       "      <td>5.000000</td>\n",
       "      <td>3.000000</td>\n",
       "      <td>0.000000</td>\n",
       "      <td>28.000000</td>\n",
       "      <td>15.000000</td>\n",
       "      <td>1.610613e+09</td>\n",
       "      <td>15398.000000</td>\n",
       "      <td>0.000000</td>\n",
       "    </tr>\n",
       "    <tr>\n",
       "      <th>75%</th>\n",
       "      <td>367.000000</td>\n",
       "      <td>2.960018e+07</td>\n",
       "      <td>34.041300</td>\n",
       "      <td>94.000000</td>\n",
       "      <td>160.000000</td>\n",
       "      <td>-118.175800</td>\n",
       "      <td>8.000000</td>\n",
       "      <td>3.000000</td>\n",
       "      <td>0.000000</td>\n",
       "      <td>43.000000</td>\n",
       "      <td>21.000000</td>\n",
       "      <td>1.610613e+09</td>\n",
       "      <td>22946.500000</td>\n",
       "      <td>1.000000</td>\n",
       "    </tr>\n",
       "    <tr>\n",
       "      <th>max</th>\n",
       "      <td>653.000000</td>\n",
       "      <td>4.990009e+07</td>\n",
       "      <td>34.087300</td>\n",
       "      <td>248.000000</td>\n",
       "      <td>791.000000</td>\n",
       "      <td>-118.021800</td>\n",
       "      <td>11.000000</td>\n",
       "      <td>7.000000</td>\n",
       "      <td>1.000000</td>\n",
       "      <td>59.000000</td>\n",
       "      <td>79.000000</td>\n",
       "      <td>1.610613e+09</td>\n",
       "      <td>30697.000000</td>\n",
       "      <td>1.000000</td>\n",
       "    </tr>\n",
       "  </tbody>\n",
       "</table>\n",
       "</div>"
      ],
      "text/plain": [
       "       game_event_id       game_id           lat         loc_x         loc_y  \\\n",
       "count   17216.000000  1.721600e+04  17216.000000  17216.000000  17216.000000   \n",
       "mean      248.911884  2.475939e+07     33.953061      6.869308     91.238557   \n",
       "std       149.796930  7.767366e+06      0.088591    109.734531     88.590678   \n",
       "min         2.000000  2.000001e+07     33.253300   -250.000000    -43.000000   \n",
       "25%       111.000000  2.050004e+07     33.884300    -66.000000      3.000000   \n",
       "50%       254.000000  2.090038e+07     33.972300      0.000000     72.000000   \n",
       "75%       367.000000  2.960018e+07     34.041300     94.000000    160.000000   \n",
       "max       653.000000  4.990009e+07     34.087300    248.000000    791.000000   \n",
       "\n",
       "                lon  minutes_remaining        period      playoffs  \\\n",
       "count  17216.000000       17216.000000  17216.000000  17216.000000   \n",
       "mean    -118.262931           4.873896      2.516612      0.148467   \n",
       "std        0.109735           3.456423      1.151020      0.355572   \n",
       "min     -118.519800           0.000000      1.000000      0.000000   \n",
       "25%     -118.335800           2.000000      1.000000      0.000000   \n",
       "50%     -118.269800           5.000000      3.000000      0.000000   \n",
       "75%     -118.175800           8.000000      3.000000      0.000000   \n",
       "max     -118.021800          11.000000      7.000000      1.000000   \n",
       "\n",
       "       seconds_remaining  shot_distance       team_id       shot_id  \\\n",
       "count       17216.000000   17216.000000  1.721600e+04  17216.000000   \n",
       "mean           28.329809      13.412233  1.610613e+09  15338.092821   \n",
       "std            17.529719       9.453346  0.000000e+00   8881.522898   \n",
       "min             0.000000       0.000000  1.610613e+09      2.000000   \n",
       "25%            13.000000       5.000000  1.610613e+09   7610.750000   \n",
       "50%            28.000000      15.000000  1.610613e+09  15398.000000   \n",
       "75%            43.000000      21.000000  1.610613e+09  22946.500000   \n",
       "max            59.000000      79.000000  1.610613e+09  30697.000000   \n",
       "\n",
       "       shot_made_flag  \n",
       "count    17216.000000  \n",
       "mean         0.446213  \n",
       "std          0.497113  \n",
       "min          0.000000  \n",
       "25%          0.000000  \n",
       "50%          0.000000  \n",
       "75%          1.000000  \n",
       "max          1.000000  "
      ]
     },
     "execution_count": 441,
     "metadata": {},
     "output_type": "execute_result"
    }
   ],
   "source": [
    "train_set.describe()"
   ]
  },
  {
   "cell_type": "code",
   "execution_count": 442,
   "metadata": {},
   "outputs": [
    {
     "data": {
      "text/plain": [
       "Index(['game_event_id', 'game_id', 'lat', 'loc_x', 'loc_y', 'lon',\n",
       "       'minutes_remaining', 'period', 'playoffs', 'season',\n",
       "       'seconds_remaining', 'shot_distance', 'shot_type', 'shot_zone_area',\n",
       "       'shot_zone_range', 'team_id', 'team_name', 'opponent', 'shot_id',\n",
       "       'shot_made_flag'],\n",
       "      dtype='object')"
      ]
     },
     "execution_count": 442,
     "metadata": {},
     "output_type": "execute_result"
    }
   ],
   "source": [
    "train_set.columns"
   ]
  },
  {
   "cell_type": "markdown",
   "metadata": {},
   "source": [
    "### There are some categorical variables, so we need to one-hot-encode them. Google if forgot."
   ]
  },
  {
   "cell_type": "code",
   "execution_count": 443,
   "metadata": {},
   "outputs": [],
   "source": [
    "train_set = pd.get_dummies(train_set)"
   ]
  },
  {
   "cell_type": "code",
   "execution_count": 444,
   "metadata": {},
   "outputs": [],
   "source": [
    "X_test = pd.get_dummies(X_test)"
   ]
  },
  {
   "cell_type": "code",
   "execution_count": 445,
   "metadata": {},
   "outputs": [
    {
     "data": {
      "text/plain": [
       "81"
      ]
     },
     "execution_count": 445,
     "metadata": {},
     "output_type": "execute_result"
    }
   ],
   "source": [
    "len(train_set.columns)"
   ]
  },
  {
   "cell_type": "code",
   "execution_count": 446,
   "metadata": {},
   "outputs": [
    {
     "data": {
      "text/plain": [
       "80"
      ]
     },
     "execution_count": 446,
     "metadata": {},
     "output_type": "execute_result"
    }
   ],
   "source": [
    "len(X_test.columns)"
   ]
  },
  {
   "cell_type": "markdown",
   "metadata": {},
   "source": [
    "##### See how number of columns shooted up."
   ]
  },
  {
   "cell_type": "markdown",
   "metadata": {},
   "source": [
    "##### Now the target variable is whether kobe hit a basket or not ie. the column shot_made_flag"
   ]
  },
  {
   "cell_type": "markdown",
   "metadata": {},
   "source": [
    "###### Now drop two columns game_event_id and game_id from . As it doesnt make much intuitive sense that these can be good predictors\n",
    "###### Think, why? Feel free to include it , if you think it might help.\n",
    "###### But if you keep it in both, train and X_test, or else drop it from both.\n",
    "###### Also team_name and team_id variables are constant throughout data. How can constant data help in predicting anything?"
   ]
  },
  {
   "cell_type": "code",
   "execution_count": 447,
   "metadata": {},
   "outputs": [],
   "source": [
    "train_set.drop(['game_event_id','game_id'], axis = 1 , inplace = True)\n",
    "X_test.drop(['game_event_id','game_id'], axis = 1 , inplace = True)\n",
    "train_set.drop(['team_name_Los Angeles Lakers','team_id'], axis = 1 , inplace = True)\n",
    "X_test.drop(['team_name_Los Angeles Lakers','team_id'], axis = 1 , inplace = True)"
   ]
  },
  {
   "cell_type": "code",
   "execution_count": 448,
   "metadata": {},
   "outputs": [
    {
     "data": {
      "text/plain": [
       "77"
      ]
     },
     "execution_count": 448,
     "metadata": {},
     "output_type": "execute_result"
    }
   ],
   "source": [
    "len(train_set.columns.values)"
   ]
  },
  {
   "cell_type": "code",
   "execution_count": 449,
   "metadata": {},
   "outputs": [
    {
     "data": {
      "text/plain": [
       "76"
      ]
     },
     "execution_count": 449,
     "metadata": {},
     "output_type": "execute_result"
    }
   ],
   "source": [
    "len(X_test.columns.values)"
   ]
  },
  {
   "cell_type": "markdown",
   "metadata": {},
   "source": [
    "### Now for some cells you are free to explore all visualization and understand data.\n",
    "#### Let me give 2 examples"
   ]
  },
  {
   "cell_type": "code",
   "execution_count": 450,
   "metadata": {},
   "outputs": [
    {
     "data": {
      "text/plain": [
       "Index(['lat', 'loc_x', 'loc_y', 'lon', 'minutes_remaining', 'period',\n",
       "       'playoffs', 'seconds_remaining', 'shot_distance', 'shot_id',\n",
       "       'shot_made_flag', 'season_1996-97', 'season_1997-98', 'season_1998-99',\n",
       "       'season_1999-00', 'season_2000-01', 'season_2001-02', 'season_2002-03',\n",
       "       'season_2003-04', 'season_2004-05', 'season_2005-06', 'season_2006-07',\n",
       "       'season_2007-08', 'season_2008-09', 'season_2009-10', 'season_2010-11',\n",
       "       'season_2011-12', 'season_2012-13', 'season_2013-14', 'season_2014-15',\n",
       "       'season_2015-16', 'shot_type_2PT Field Goal',\n",
       "       'shot_type_3PT Field Goal', 'shot_zone_area_Back Court(BC)',\n",
       "       'shot_zone_area_Center(C)', 'shot_zone_area_Left Side Center(LC)',\n",
       "       'shot_zone_area_Left Side(L)', 'shot_zone_area_Right Side Center(RC)',\n",
       "       'shot_zone_area_Right Side(R)', 'shot_zone_range_16-24 ft.',\n",
       "       'shot_zone_range_24+ ft.', 'shot_zone_range_8-16 ft.',\n",
       "       'shot_zone_range_Back Court Shot', 'shot_zone_range_Less Than 8 ft.',\n",
       "       'opponent_ATL', 'opponent_BKN', 'opponent_BOS', 'opponent_CHA',\n",
       "       'opponent_CHI', 'opponent_CLE', 'opponent_DAL', 'opponent_DEN',\n",
       "       'opponent_DET', 'opponent_GSW', 'opponent_HOU', 'opponent_IND',\n",
       "       'opponent_LAC', 'opponent_MEM', 'opponent_MIA', 'opponent_MIL',\n",
       "       'opponent_MIN', 'opponent_NJN', 'opponent_NOH', 'opponent_NOP',\n",
       "       'opponent_NYK', 'opponent_OKC', 'opponent_ORL', 'opponent_PHI',\n",
       "       'opponent_PHX', 'opponent_POR', 'opponent_SAC', 'opponent_SAS',\n",
       "       'opponent_SEA', 'opponent_TOR', 'opponent_UTA', 'opponent_VAN',\n",
       "       'opponent_WAS'],\n",
       "      dtype='object')"
      ]
     },
     "execution_count": 450,
     "metadata": {},
     "output_type": "execute_result"
    }
   ],
   "source": [
    "train_set.columns"
   ]
  },
  {
   "cell_type": "code",
   "execution_count": 451,
   "metadata": {},
   "outputs": [
    {
     "data": {
      "text/plain": [
       "Index(['lat', 'loc_x', 'loc_y', 'lon', 'minutes_remaining', 'period',\n",
       "       'playoffs', 'seconds_remaining', 'shot_distance', 'shot_id',\n",
       "       'season_1996-97', 'season_1997-98', 'season_1998-99', 'season_1999-00',\n",
       "       'season_2000-01', 'season_2001-02', 'season_2002-03', 'season_2003-04',\n",
       "       'season_2004-05', 'season_2005-06', 'season_2006-07', 'season_2007-08',\n",
       "       'season_2008-09', 'season_2009-10', 'season_2010-11', 'season_2011-12',\n",
       "       'season_2012-13', 'season_2013-14', 'season_2014-15', 'season_2015-16',\n",
       "       'shot_type_2PT Field Goal', 'shot_type_3PT Field Goal',\n",
       "       'shot_zone_area_Back Court(BC)', 'shot_zone_area_Center(C)',\n",
       "       'shot_zone_area_Left Side Center(LC)', 'shot_zone_area_Left Side(L)',\n",
       "       'shot_zone_area_Right Side Center(RC)', 'shot_zone_area_Right Side(R)',\n",
       "       'shot_zone_range_16-24 ft.', 'shot_zone_range_24+ ft.',\n",
       "       'shot_zone_range_8-16 ft.', 'shot_zone_range_Back Court Shot',\n",
       "       'shot_zone_range_Less Than 8 ft.', 'opponent_ATL', 'opponent_BKN',\n",
       "       'opponent_BOS', 'opponent_CHA', 'opponent_CHI', 'opponent_CLE',\n",
       "       'opponent_DAL', 'opponent_DEN', 'opponent_DET', 'opponent_GSW',\n",
       "       'opponent_HOU', 'opponent_IND', 'opponent_LAC', 'opponent_MEM',\n",
       "       'opponent_MIA', 'opponent_MIL', 'opponent_MIN', 'opponent_NJN',\n",
       "       'opponent_NOH', 'opponent_NOP', 'opponent_NYK', 'opponent_OKC',\n",
       "       'opponent_ORL', 'opponent_PHI', 'opponent_PHX', 'opponent_POR',\n",
       "       'opponent_SAC', 'opponent_SAS', 'opponent_SEA', 'opponent_TOR',\n",
       "       'opponent_UTA', 'opponent_VAN', 'opponent_WAS'],\n",
       "      dtype='object')"
      ]
     },
     "execution_count": 451,
     "metadata": {},
     "output_type": "execute_result"
    }
   ],
   "source": [
    "X_test.columns"
   ]
  },
  {
   "cell_type": "code",
   "execution_count": 452,
   "metadata": {},
   "outputs": [
    {
     "data": {
      "image/png": "[encoded data removed]",
      "text/plain": [
       "<Figure size 432x288 with 1 Axes>"
      ]
     },
     "metadata": {},
     "output_type": "display_data"
    }
   ],
   "source": [
    "plt.figure()\n",
    "plt.scatter(train_set['shot_made_flag'],train_set['shot_distance'],c= train_set['shot_made_flag'])\n",
    "plt.xlabel('shot_made_flag')\n",
    "plt.ylabel('shot_distance')\n",
    "plt.show()"
   ]
  },
  {
   "cell_type": "markdown",
   "metadata": {},
   "source": [
    "##### Now visulation is tough right? So we add random noise called jitter around 1 and 0. So it look like this"
   ]
  },
  {
   "cell_type": "code",
   "execution_count": 453,
   "metadata": {},
   "outputs": [],
   "source": [
    "def jitter(x):\n",
    "    return x + np.random.randn(len(x))/10"
   ]
  },
  {
   "cell_type": "code",
   "execution_count": 454,
   "metadata": {},
   "outputs": [
    {
     "data": {
      "image/png": "[encoded data removed]",
      "text/plain": [
       "<Figure size 432x288 with 1 Axes>"
      ]
     },
     "metadata": {},
     "output_type": "display_data"
    }
   ],
   "source": [
    "plt.figure()\n",
    "plt.scatter(jitter(train_set['shot_made_flag']),train_set['shot_distance'],c= train_set['shot_made_flag'])\n",
    "plt.xlabel('shot_made_flag')\n",
    "plt.ylabel('shot_distance')\n",
    "plt.show()"
   ]
  },
  {
   "cell_type": "markdown",
   "metadata": {},
   "source": [
    "##### Now you can clearly see. The distrubtions and where the distributions are dense."
   ]
  },
  {
   "cell_type": "code",
   "execution_count": 455,
   "metadata": {},
   "outputs": [
    {
     "data": {
      "image/png": "[encoded data removed]",
      "text/plain": [
       "<Figure size 432x288 with 1 Axes>"
      ]
     },
     "metadata": {},
     "output_type": "display_data"
    }
   ],
   "source": [
    "plt.figure()\n",
    "plt.scatter(jitter(train_set['shot_made_flag']),train_set['loc_x'],c= train_set['shot_made_flag'])\n",
    "plt.xlabel('shot_made_flag')\n",
    "plt.ylabel('loc_x')\n",
    "plt.show()"
   ]
  },
  {
   "cell_type": "code",
   "execution_count": 456,
   "metadata": {},
   "outputs": [
    {
     "data": {
      "image/png": "[encoded data removed]",
      "text/plain": [
       "<Figure size 432x288 with 1 Axes>"
      ]
     },
     "metadata": {},
     "output_type": "display_data"
    }
   ],
   "source": [
    "plt.figure()\n",
    "plt.scatter(jitter(train_set['shot_made_flag']),train_set['loc_y'],c= train_set['shot_made_flag'])\n",
    "plt.xlabel('shot_made_flag')\n",
    "plt.ylabel('loc_y')\n",
    "plt.show()"
   ]
  },
  {
   "cell_type": "markdown",
   "metadata": {},
   "source": [
    "##### hmm.. looks like location x doesnt matter, but location y does. Makes sense."
   ]
  },
  {
   "cell_type": "markdown",
   "metadata": {},
   "source": [
    "#### Can there be a relation between minutes remaning and shot_zone_range?"
   ]
  },
  {
   "cell_type": "code",
   "execution_count": 457,
   "metadata": {},
   "outputs": [
    {
     "data": {
      "image/png": "[encoded data removed]",
      "text/plain": [
       "<Figure size 432x288 with 1 Axes>"
      ]
     },
     "metadata": {},
     "output_type": "display_data"
    }
   ],
   "source": [
    "plt.figure()\n",
    "plt.scatter(jitter(train_set['shot_zone_range_Back Court Shot']),train_set['minutes_remaining'],c= train_set['shot_zone_range_Back Court Shot'])\n",
    "plt.xlabel('shot_zone_range')\n",
    "plt.ylabel('minutes_remaining')\n",
    "plt.show()"
   ]
  },
  {
   "cell_type": "markdown",
   "metadata": {},
   "source": [
    "##### Again back court shots appear only when minutes remaining our less."
   ]
  },
  {
   "cell_type": "markdown",
   "metadata": {},
   "source": [
    "### You can explore more visualization on your own and come up with better undestanding of data."
   ]
  },
  {
   "cell_type": "markdown",
   "metadata": {},
   "source": [
    "##### Now all this analysis is done for creating better features(combination of variables)for model to learn.\n",
    "##### This is called feature engineering. We will see how we can improve the model accuracy by generating a simple feature\n",
    "#### Which is not already present in the data."
   ]
  },
  {
   "cell_type": "markdown",
   "metadata": {},
   "source": [
    "### Now your task is to fit a Logistic Regression model.\n",
    "### ie.Linear Regression squashed between 0 and 1."
   ]
  },
  {
   "cell_type": "code",
   "execution_count": 367,
   "metadata": {},
   "outputs": [],
   "source": [
    "#Your simple task is to fit model on train set and predict on test set and submit the result.\n",
    "#Hypothesis testing and feature engineering will be done in subsequent parts of the same assignment.\n",
    "from sklearn.linear_model import LogisticRegression"
   ]
  },
  {
   "cell_type": "code",
   "execution_count": 403,
   "metadata": {},
   "outputs": [],
   "source": [
    "#Read the docs of scikit-learn logistic regression.\n",
    "#Train model on train set.\n",
    "lm_model = LogisticRegression()"
   ]
  },
  {
   "cell_type": "code",
   "execution_count": 404,
   "metadata": {},
   "outputs": [
    {
     "data": {
      "text/plain": [
       "LogisticRegression(C=1.0, class_weight=None, dual=False, fit_intercept=True,\n",
       "          intercept_scaling=1, max_iter=100, multi_class='ovr', n_jobs=1,\n",
       "          penalty='l2', random_state=None, solver='liblinear', tol=0.0001,\n",
       "          verbose=0, warm_start=False)"
      ]
     },
     "execution_count": 404,
     "metadata": {},
     "output_type": "execute_result"
    }
   ],
   "source": [
    "#For training, shot_made_flag and shot_id variables have to be dropped, as one is target and other is like an index\n",
    "#Fit the lm_model here. Code below.\n"
   ]
  },
  {
   "cell_type": "code",
   "execution_count": 406,
   "metadata": {},
   "outputs": [],
   "source": [
    "#Predict on train set.\n",
    "prediction_train = lm_model.predict(train_set.drop(['shot_made_flag','shot_id'], axis = 1))"
   ]
  },
  {
   "cell_type": "code",
   "execution_count": 458,
   "metadata": {},
   "outputs": [],
   "source": [
    "#Find out your train set accuracy\n"
   ]
  },
  {
   "cell_type": "code",
   "execution_count": 413,
   "metadata": {},
   "outputs": [],
   "source": [
    "#similarly predict for X_test\n",
    "prediction_test = ##"
   ]
  },
  {
   "cell_type": "code",
   "execution_count": 414,
   "metadata": {},
   "outputs": [],
   "source": [
    "#When you predict you will get a numpy array equal to number of rows in X_test"
   ]
  },
  {
   "cell_type": "code",
   "execution_count": 415,
   "metadata": {},
   "outputs": [],
   "source": [
    "#Test set is expected to have 8481 rows and hence submit file also with have 8481 rows and two columns."
   ]
  },
  {
   "cell_type": "code",
   "execution_count": 416,
   "metadata": {},
   "outputs": [],
   "source": [
    "submit = pd.DataFrame({'shot_id':X_test['shot_id'],'shot_made_flag':prediction_test})"
   ]
  },
  {
   "cell_type": "code",
   "execution_count": 422,
   "metadata": {},
   "outputs": [
    {
     "data": {
      "text/plain": [
       "(8481, 2)"
      ]
     },
     "execution_count": 422,
     "metadata": {},
     "output_type": "execute_result"
    }
   ],
   "source": [
    "submit.shape"
   ]
  },
  {
   "cell_type": "code",
   "execution_count": 418,
   "metadata": {},
   "outputs": [],
   "source": [
    "submit.to_csv('first_sub.csv')"
   ]
  },
  {
   "cell_type": "code",
   "execution_count": null,
   "metadata": {},
   "outputs": [],
   "source": []
  }
 ],
 "metadata": {
  "kernelspec": {
   "display_name": "Python [conda root]",
   "language": "python",
   "name": "conda-root-py"
  },
  "language_info": {
   "codemirror_mode": {
    "name": "ipython",
    "version": 3
   },
   "file_extension": ".py",
   "mimetype": "text/x-python",
   "name": "python",
   "nbconvert_exporter": "python",
   "pygments_lexer": "ipython3",
   "version": "3.6.5"
  }
 },
 "nbformat": 4,
 "nbformat_minor": 2
}
