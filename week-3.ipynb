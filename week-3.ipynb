{
 "cells": [
  {
   "cell_type": "markdown",
   "metadata": {},
   "source": [
    "# Mathematics\n",
    "\n",
    "Mathematics is the language of Science. In fact, it may not be too much to say that in AI, it is the only language we can understand. This session is meant for a review on the pre-requisite Mathematics background for AI.\n",
    "\n",
    "## Calculus\n",
    "\n",
    "Calculus is the Mathematics of rate of change. A concept in Calculus that we always use in AI, and you will always encounter in your further studies on the said subject is the concept of _derivatives_. Derivatives may be simply defined as the rate of change of a function. In other words, how fast or how slow the function is changing, is it going up or is it going down. For a better understanding, refer to the following visualization:\n",
    "\n",
    "![](../figures/derivative.gif)\n",
    "\n",
    "The simplest case for a derivative is when the given function is a linear fuction, e.g. y is a linear function of x. In other words, the graph of \\\\(y\\\\) is a line. Hence, \\\\(y = f(x) = mx+b\\\\), for \\\\(m,\\ b\\ \\in\\ \\mathbb{R}\\\\), and the slope \\\\(m\\\\) is given by\n",
    "\n",
    "\\\\[m = \\dfrac{change\\ in\\ y}{change\\ in\\ x} = \\dfrac{\\Delta y}{\\Delta x} \\\\]\n",
    "\n",
    "where the symbol \\\\(\\Delta\\\\) (Delta) is a shorthand for \"change in\".\n",
    "\n",
    "Proof:\n",
    "\n",
    "\\\\[y + \\Delta y = f(x + \\Delta x) \\\\]\n",
    "\\\\[f(x + \\Delta x) = m(x + \\Delta x) + b\\\\]\n",
    "\\\\[m(x + \\Delta x) + b = mx + m\\Delta x + b\\\\]\n",
    "\\\\[mx + m\\Delta x + b = y + m\\Delta x\\\\]\n",
    "\n",
    "Since\n",
    "\n",
    "\\\\[y + \\Delta y = y + m\\Delta x\\\\]\n",
    "\n",
    "it follows that\n",
    "\n",
    "\\\\[\\Delta y = m\\Delta x\\\\]\n",
    "\n",
    "More rigorous notation,\n",
    "\n",
    "\\\\[m = \\dfrac{\\Delta f(x)}{\\Delta x} = \\dfrac{f(x + h) - f(x)}{(x + h) - (x)} = \\dfrac{f(x + h) - f(x)}{h}\\\\]\n",
    "\n",
    "The above expression is Newton's difference quotient. The limit of the difference quotient as \\\\(h\\\\) approaches zero (if it exists) should represent the derivative of the function to \\\\((x, f(x))\\\\). This limit is then defined to be the derivative of the function \\\\(f\\\\) at x:\n",
    "\n",
    "\\\\[f'(x) = \\lim \\limits_{h \\to 0} \\dfrac{f(x + h) - f(x)}{h} \\\\]\n",
    "\n",
    "If the limit exists, the function is differentiable at \\\\(h\\\\).\n",
    "\n",
    "Example:\n",
    "\n",
    "Given a function \\\\(f(x) = 3x^{2} - 5x + 4\\\\),\n",
    "\n",
    "\\\\[f'(x) = \\lim \\limits_{h \\to 0} \\dfrac{f(x + h) - f(x)}{h} \\\\]\n",
    "\n",
    "\\\\[ = \\lim \\limits_{h \\to 0} \\dfrac{[3(x + h)^{2} - 5(x + h) + 4] - [3x^{2} - 5x + 4]}{h} \\\\]\n",
    "\n",
    "\\\\[ = \\lim \\limits_{h \\to 0} \\dfrac{3x^{2} + 6xh + 3h^{2} - 5x - 5h + 4 - 3x^{2} + 5x - 4}{h} \\\\]\n",
    "\n",
    "\\\\[ = \\lim \\limits_{h \\to 0} \\dfrac{6xh + 3h^{2} - 5h}{h} \\\\]\n",
    "\n",
    "\\\\[ = \\lim \\limits_{h \\to 0} 6x + 3h - 5 \\\\]\n",
    "\n",
    "Evaluating \\\\(h = 0\\\\),\n",
    "\n",
    "\\\\[ = 6x - 5 \\\\]\n",
    "\n",
    "\\\\(6x - 5\\\\) is the derivative \\\\(f'(x)\\\\) of the function \\\\(f(x) = 3x^{2} - 5x + 4\\\\).\n",
    "\n",
    "\n",
    "Plotting the graph using `matplotlib` of Python,"
   ]
  },
  {
   "cell_type": "markdown",
   "metadata": {},
   "source": [
    "And that's how you get the derivative of a function!\n",
    "\n",
    "It's not a problem for functions of degree 1 or 2, or maybe even 3. But what if the function is of degree 4, 5, or 6? It's going to be problematic for the time it's going to take. Hence, the differentiation rules, a set of shortcuts, if you will:\n",
    "\n",
    "Common Functions|Function|Derivative|\n",
    "----------------|--------|----------|\n",
    "Constant|c|0|\n",
    "Line|x|1|\n",
    " |ax|a|\n",
    "Square|\\\\(x^{2}\\\\)|2x|\n",
    "Square root|\\\\(\\sqrt{x}\\\\)|\\\\(\\frac{1}{2}x^{-\\frac{1}{2}}\\\\)|\n",
    "Exponential|\\\\(e^{x}\\\\)|\\\\(e^{x}\\\\)|\n",
    "Multiplication by constant|cf|cf'|\n",
    "Power rule|\\\\(x^{n}\\\\)|\\\\(nx^{n-1}\\\\)|\n",
    "Sum rule|f+g|f'+g'|\n",
    "Difference rule|f-g|f'-g'|\n",
    "Product rule|fg|fg'-f'g|\n",
    "Quotient rule|f/g|\\\\(\\frac{f'g-g'f}{g^2}\\\\)|\n",
    "Reciprocal rule|\\\\(\\frac{1}{f}\\\\)|\\\\(-\\frac{f'}{f^2}\\\\)|\n",
    "Chain rule|\\\\(f\\circ g\\\\)|\\\\((f'\\circ g)\\times g'\\\\)|\n",
    "\n",
    "Example using power rule:\n",
    "\n",
    "\\\\[f(x) = 7x^6 - 9x^4 + 3x^2 - 10\\\\]\n",
    "\n",
    "\\\\[f'(x) = 6 \\cdot 7x^{6-1} - 4 \\cdot 9x^{4-1} + 2 \\cdot 3x^{2-1} - 0\\\\]\n",
    "\n",
    "\\\\[ = 42x^5 - 36x^3 + 6x\\\\]"
   ]
  },
  {
   "cell_type": "markdown",
   "metadata": {},
   "source": [
    "## Linear Algebra\n",
    "\n",
    "Linear Algebra is the branch of Mathematics that deals with vector spaces and linear mappings between these spaces. In Machine Learning, data is very intensive, thus, the calculations are extremely heavy. Through Linear Algebra, large sets of data in the form of vectors, matrices, and tensors, the visualization of data can be better. A very important advantage of using matrices is that data can be processed by batch. Simply put, despite thousands or even millions of data for use in ML, they won't be processed individually, but by batch.\n",
    "\n",
    "#### Scalar\n",
    "\n",
    "* A single number, represented in lower-case italic _x_.\n",
    "\n",
    "    * E.g. let \\\\(x\\in\\mathbb{R}\\\\) be the slope of the line \\\\(f(x)\\\\)\n",
    "\n",
    "#### Vector\n",
    "\n",
    "* In programming, you know this as _arrays_.\n",
    "* Vectors are arranged in order\n",
    "* Each element is identified by an index\n",
    "    * For instance, \\\\(x = [1, 2, 3, 4]\\\\), \\\\(x_0 = 1\\\\), \\\\(x_3 = 4\\\\)\n",
    "\n",
    "#### Matrix\n",
    "\n",
    "* 2-D array of numbers\n",
    "* Each element is identified by two indices, $A_{ij}$\n",
    "    * E.g. $A = \\begin{bmatrix}a & b\\\\c & d\\end{bmatrix}$ $A_{00} = a$, $A_{10} = c$\n",
    "* $A_{i:}$ is the $i^{th}$ row of $A$, $A_{:j}$ is the $j^{th}$ column of $A$\n",
    "\n",
    "#### Tensor\n",
    "\n",
    "* An array of more than two axes\n",
    "* Element of tensor is denoted by $A_{ijk}$\n",
    "\n",
    "![](../figures/tensor.png)"
   ]
  },
  {
   "cell_type": "markdown",
   "metadata": {},
   "source": [
    "#### Transpose of a Matrix\n",
    "\n",
    "* Mirror image across principal diagonal\n",
    "\n",
    "\\\\[A = \\begin{bmatrix}A_{1,1} & A_{1, 2} & A_{1, 3}\\\\A_{2, 1} & A_{2, 2} & A_{2, 3}\\\\A_{3, 1} & A_{3, 2} & A_{3, 3}\\end{bmatrix} \\rightarrow A^{T} = \\begin{bmatrix}A_{1,1} & A_{2, 1} & A_{3, 1}\\\\A_{1, 2} & A_{2, 2} & A_{3, 2}\\\\A_{1, 3} & A_{2, 3} & A_{3, 3}\\end{bmatrix} \\\\]"
   ]
  },
  {
   "cell_type": "markdown",
   "metadata": {},
   "source": [
    "#### Multiplying Matrices\n",
    "\n",
    "* For product $C = AB$ to be defined, $A$ must have the same number of columns as the number of rows of $B$\n",
    "* If $A$ is of shape `[m, n]` and $B$ is of shape `[n, p]`, then the matrix product $C$ is of shape `[m, p]`\n",
    "\n",
    "\\\\[C = AB \\rightarrow C_{i, j} = \\sum_{k} A_{i, k} B_{k, j}\\\\]\n",
    "\n",
    "* Take note that the product of two matrices is not the product of two individual elements, thus the $\\sum$ notation\n",
    "\n",
    "    * For instance, we have the following matrices\n",
    "\n",
    "\\\\[A = \\begin{bmatrix} 1 & 2 & 3 \\\\ 4 & 5 & 6 \\\\ 7 & 8 & 9\\end{bmatrix}\\ \\ \\ B = \\begin{bmatrix} 1 \\\\ 2 \\\\ 3 \\end{bmatrix} \\\\]\n",
    "\n",
    "We already have the matrix $A$ represented by the `tf.constant` `matrix` with shape `[3, 3]`, we shall just create a new matrix with a shape of `[3, 1]` (the matrix $B$)."
   ]
  },
  {
   "cell_type": "markdown",
   "metadata": {},
   "source": [
    "#### Mutliplying Vectors\n",
    "\n",
    "* The dot product of two vectors $x$ and $y$ of same dimensionality is the matrix $x^{T}y$."
   ]
  },
  {
   "cell_type": "markdown",
   "metadata": {},
   "source": [
    "## Probability & Statistics\n",
    "\n",
    "Artificial Intelligence, particularly, Machine Learning and Deep Learning, rely heavily on concepts from Probability & Statistics. ML/DL algorithms (neural networks) nowadays use Softmax Regression (from Probability Theory) as their final layer, to determine their output or decision on a specific problem. In terms of dataset to be used for ML/DL algorithms, they are first processed using _normalization_, e.g. standardization (or the z-score), feature scaling, etc. The said normalization is done to ensure that the ML/DL algorithm does not inappropriately assign more importance to a specific variable in the dataset or a specific set of variables in the dataset.\n",
    "\n",
    "#### Measures of Central Tendency\n",
    "\n",
    "* Mean is basically the average of all numbers in a set, i.e. \\\\(\\bar x = \\frac{\\sum_{i}^{n} x_{i}}{n}\\\\)"
   ]
  },
  {
   "cell_type": "code",
   "execution_count": 19,
   "metadata": {},
   "outputs": [
    {
     "data": {
      "text/plain": [
       "5.0"
      ]
     },
     "execution_count": 19,
     "metadata": {},
     "output_type": "execute_result"
    }
   ],
   "source": [
    "import numpy as np\n",
    "numbers = [number for number in range(1, 10)]\n",
    "# get the mean by Python hard-code\n",
    "sum(numbers) / len(numbers)"
   ]
  },
  {
   "cell_type": "code",
   "execution_count": 20,
   "metadata": {},
   "outputs": [
    {
     "data": {
      "text/plain": [
       "5.0"
      ]
     },
     "execution_count": 20,
     "metadata": {},
     "output_type": "execute_result"
    }
   ],
   "source": [
    "# get the mean of numbers using numpy\n",
    "np.mean(numbers)"
   ]
  },
  {
   "cell_type": "code",
   "execution_count": 21,
   "metadata": {
    "scrolled": true
   },
   "outputs": [
    {
     "name": "stdout",
     "output_type": "stream",
     "text": [
      "   0\n",
      "0  1\n",
      "1  2\n",
      "2  3\n",
      "3  4\n",
      "4  5\n",
      "5  6\n",
      "6  7\n",
      "7  8\n",
      "8  9 \n",
      "\n",
      "0    5.0\n",
      "dtype: float64\n"
     ]
    }
   ],
   "source": [
    "# pandas is a Python library for data manipulation and analysis\n",
    "import pandas as pd\n",
    "\n",
    "# create a pandas dataframe\n",
    "df = pd.DataFrame(numbers)\n",
    "\n",
    "# display the content of the dataframe\n",
    "print(df,'\\n')\n",
    "\n",
    "# get the mean using pandas\n",
    "print(df.mean())"
   ]
  },
  {
   "cell_type": "markdown",
   "metadata": {},
   "source": [
    "* Median is the value lying at the midpoint of a frequency distribution"
   ]
  },
  {
   "cell_type": "code",
   "execution_count": 22,
   "metadata": {
    "scrolled": true
   },
   "outputs": [
    {
     "data": {
      "text/plain": [
       "5.0"
      ]
     },
     "execution_count": 22,
     "metadata": {},
     "output_type": "execute_result"
    }
   ],
   "source": [
    "# get the median using numpy\n",
    "np.median(numbers)"
   ]
  },
  {
   "cell_type": "markdown",
   "metadata": {},
   "source": [
    "* Mode is the value with the highest frequency in the distribution"
   ]
  },
  {
   "cell_type": "code",
   "execution_count": 23,
   "metadata": {},
   "outputs": [
    {
     "data": {
      "text/html": [
       "<div>\n",
       "<style scoped>\n",
       "    .dataframe tbody tr th:only-of-type {\n",
       "        vertical-align: middle;\n",
       "    }\n",
       "\n",
       "    .dataframe tbody tr th {\n",
       "        vertical-align: top;\n",
       "    }\n",
       "\n",
       "    .dataframe thead th {\n",
       "        text-align: right;\n",
       "    }\n",
       "</style>\n",
       "<table border=\"1\" class=\"dataframe\">\n",
       "  <thead>\n",
       "    <tr style=\"text-align: right;\">\n",
       "      <th></th>\n",
       "      <th>0</th>\n",
       "    </tr>\n",
       "  </thead>\n",
       "  <tbody>\n",
       "    <tr>\n",
       "      <th>0</th>\n",
       "      <td>1</td>\n",
       "    </tr>\n",
       "    <tr>\n",
       "      <th>1</th>\n",
       "      <td>2</td>\n",
       "    </tr>\n",
       "    <tr>\n",
       "      <th>2</th>\n",
       "      <td>3</td>\n",
       "    </tr>\n",
       "    <tr>\n",
       "      <th>3</th>\n",
       "      <td>4</td>\n",
       "    </tr>\n",
       "    <tr>\n",
       "      <th>4</th>\n",
       "      <td>5</td>\n",
       "    </tr>\n",
       "    <tr>\n",
       "      <th>5</th>\n",
       "      <td>6</td>\n",
       "    </tr>\n",
       "    <tr>\n",
       "      <th>6</th>\n",
       "      <td>7</td>\n",
       "    </tr>\n",
       "    <tr>\n",
       "      <th>7</th>\n",
       "      <td>8</td>\n",
       "    </tr>\n",
       "    <tr>\n",
       "      <th>8</th>\n",
       "      <td>9</td>\n",
       "    </tr>\n",
       "  </tbody>\n",
       "</table>\n",
       "</div>"
      ],
      "text/plain": [
       "   0\n",
       "0  1\n",
       "1  2\n",
       "2  3\n",
       "3  4\n",
       "4  5\n",
       "5  6\n",
       "6  7\n",
       "7  8\n",
       "8  9"
      ]
     },
     "execution_count": 23,
     "metadata": {},
     "output_type": "execute_result"
    }
   ],
   "source": [
    "# get the mode using pandas\n",
    "df.mode()"
   ]
  },
  {
   "cell_type": "markdown",
   "metadata": {},
   "source": [
    "As the example dataframe does not have a value with highest frequency, let us append another value (which is in the `df` already) to the dataframe `df`."
   ]
  },
  {
   "cell_type": "code",
   "execution_count": 24,
   "metadata": {},
   "outputs": [
    {
     "data": {
      "text/html": [
       "<div>\n",
       "<style scoped>\n",
       "    .dataframe tbody tr th:only-of-type {\n",
       "        vertical-align: middle;\n",
       "    }\n",
       "\n",
       "    .dataframe tbody tr th {\n",
       "        vertical-align: top;\n",
       "    }\n",
       "\n",
       "    .dataframe thead th {\n",
       "        text-align: right;\n",
       "    }\n",
       "</style>\n",
       "<table border=\"1\" class=\"dataframe\">\n",
       "  <thead>\n",
       "    <tr style=\"text-align: right;\">\n",
       "      <th></th>\n",
       "      <th>0</th>\n",
       "    </tr>\n",
       "  </thead>\n",
       "  <tbody>\n",
       "    <tr>\n",
       "      <th>0</th>\n",
       "      <td>9</td>\n",
       "    </tr>\n",
       "  </tbody>\n",
       "</table>\n",
       "</div>"
      ],
      "text/plain": [
       "   0\n",
       "0  9"
      ]
     },
     "execution_count": 24,
     "metadata": {},
     "output_type": "execute_result"
    }
   ],
   "source": [
    "# append another value to df\n",
    "df = df.append([9])\n",
    "\n",
    "# get the mode, this should indicate that 9 is the mode\n",
    "df.mode()"
   ]
  },
  {
   "cell_type": "markdown",
   "metadata": {},
   "source": [
    "#### Variance\n",
    "\n",
    "This is the amount of how far the numbers are from their average value.\n",
    "\n",
    "\\\\[\\sigma^{2} = \\frac{\\sum_{i}^{N} (x_{i} - \\bar x)^{2}}{N - 1}\\\\]"
   ]
  },
  {
   "cell_type": "code",
   "execution_count": 25,
   "metadata": {},
   "outputs": [
    {
     "data": {
      "text/plain": [
       "0    7.5\n",
       "dtype: float64"
      ]
     },
     "execution_count": 25,
     "metadata": {},
     "output_type": "execute_result"
    }
   ],
   "source": [
    "# revert to df with values 0-9\n",
    "df = pd.DataFrame(numbers)\n",
    "\n",
    "# get the variance of df\n",
    "df.var()"
   ]
  },
  {
   "cell_type": "markdown",
   "metadata": {},
   "source": [
    "#### Standard Deviation\n",
    "\n",
    "This is the amount of how far the numbers are from their average value, wait, what? That's just the same with variance! Well, it is. It's because to get the standard deviation, you just have to get the square root of the variance.\n",
    "\n",
    "\\\\[\\sigma = \\sqrt{\\sigma^{2}}\\\\]\n",
    "\n",
    "Expanding that,\n",
    "\n",
    "\\\\[\\sigma = \\sqrt{\\frac{\\sum_{i}^{N} (x_{i} - \\bar x)^{2}}{N - 1}}\\\\]\n",
    "\n",
    "What's the difference then? According to this [answer](https://stats.stackexchange.com/a/35124/168251) in CrossValidated, it's the matter of usage, i.e. standard deviation is good for reporting, interpretation. On the other hand, variance is for developing a (statistical) theory."
   ]
  },
  {
   "cell_type": "code",
   "execution_count": 26,
   "metadata": {},
   "outputs": [
    {
     "data": {
      "text/plain": [
       "0    2.738613\n",
       "dtype: float64"
      ]
     },
     "execution_count": 26,
     "metadata": {},
     "output_type": "execute_result"
    }
   ],
   "source": [
    "# get the standard deviation using pandas\n",
    "df.std()"
   ]
  },
  {
   "cell_type": "code",
   "execution_count": 27,
   "metadata": {},
   "outputs": [
    {
     "data": {
      "text/plain": [
       "2.7386127875258306"
      ]
     },
     "execution_count": 27,
     "metadata": {},
     "output_type": "execute_result"
    }
   ],
   "source": [
    "# let's confirm that!\n",
    "import math\n",
    "\n",
    "math.sqrt(df.var())"
   ]
  },
  {
   "cell_type": "markdown",
   "metadata": {},
   "source": [
    "#### Probability\n",
    "\n",
    "Probability is the amount of likelihood that something will happen or something belongs to a class.\n",
    "\n",
    "Probability theory is the branch of mathematics that deals with assigning nubmers, called _probabilities_, to entities of a certain class, called _events_. It is the convention to denote the probability of event $E$ as $P(E)$.\n",
    "\n",
    "__Sample Space__ $\\Omega$ is the set of all possible outcomes of an experiment.\n",
    "\n",
    "Example:\n",
    "\n",
    "__Flip a coin__. The sample space would be $\\Omega = \\{Head, Tails\\}$. To isolate an event $E_{i}$, we say that its probability is the fraction of $\\Omega$ that is in $E$. Since we only have two values in the $\\Omega$, we can say that the probability of flipping a coin would result to _heads_ or _tails_ is exactly $\\frac{1}{2}$."
   ]
  },
  {
   "cell_type": "markdown",
   "metadata": {},
   "source": [
    "#### Linear Regression\n",
    "\n",
    "This is a linear approach for modeling the relationship between a scalar dependent variable $y$ and one or more independent variables $x$.\n",
    "\n",
    "If the correlation coefficient indicates that the data can be used for prediction, and the scatter plot of data seems to form a straight line, that's the time to use linear regression. Recall that the equation of a straight line is $y = mx + b$, the notation may vary -- this is the linear regression equation. To get the values $m$ and $b$ for the equation, we use the following formulas:\n",
    "\n",
    "\\\\[b = \\dfrac{(\\sum{y})(\\sum{x^2}) - (\\sum{x})(\\sum{xy})}{n(\\sum{x^2}) - (\\sum{x})^2}\\\\]\n",
    "\n",
    "\\\\[m = \\dfrac{n(\\sum{xy}) - (\\sum{x})(\\sum{y})}{n(\\sum{x^2}) - (\\sum{x})^2}\\\\]\n",
    "\n",
    "Let us use the following data:\n",
    "\n",
    "Subject|Age (x)|Glucose Level (y)|\n",
    "-------|-------|-----------------|\n",
    "0|43|99|\n",
    "1|21|65|\n",
    "2|25|79|\n",
    "3|42|75|\n",
    "4|57|87|\n",
    "5|59|81|\n",
    "$\\sum$|247|486|"
   ]
  },
  {
   "cell_type": "code",
   "execution_count": 28,
   "metadata": {},
   "outputs": [],
   "source": [
    "data = np.array([[43, 99], [21, 65], [25, 79], [42, 75], [57, 87], [59, 81]])"
   ]
  },
  {
   "cell_type": "code",
   "execution_count": 29,
   "metadata": {},
   "outputs": [],
   "source": [
    "# isolate the x variable\n",
    "x = data[:, 0]\n",
    "\n",
    "# isolate the y variable\n",
    "y = data[:, 1]"
   ]
  },
  {
   "cell_type": "code",
   "execution_count": 30,
   "metadata": {},
   "outputs": [],
   "source": [
    "# let's implement the formula\n",
    "b = (np.sum(y) * np.sum(x**2) - np.sum(x) * np.sum(x * y)) / (data.shape[0] * np.sum(x**2) - np.sum(x)**2)\n",
    "m = (data.shape[0] * (np.sum(x*y)) - np.sum(x) * np.sum(y)) / (data.shape[0] * np.sum(x**2) - np.sum(x)**2)"
   ]
  },
  {
   "cell_type": "code",
   "execution_count": 31,
   "metadata": {},
   "outputs": [
    {
     "name": "stdout",
     "output_type": "stream",
     "text": [
      "b : 65.1415715245131\n",
      "m : 0.3852249832102082\n"
     ]
    }
   ],
   "source": [
    "# display the equation coefficients\n",
    "print('b : {}'.format(b))\n",
    "print('m : {}'.format(m))"
   ]
  },
  {
   "cell_type": "markdown",
   "metadata": {},
   "source": [
    "Thus, we have the following linear regression equation: $y = 0.385225x + 65.1416$"
   ]
  },
  {
   "cell_type": "code",
   "execution_count": 32,
   "metadata": {},
   "outputs": [],
   "source": [
    "def fn(x):\n",
    "    return m*x.astype(np.float64) + b"
   ]
  },
  {
   "cell_type": "code",
   "execution_count": 33,
   "metadata": {},
   "outputs": [
    {
     "name": "stdout",
     "output_type": "stream",
     "text": [
      "[43, 21, 25, 42, 57, 59]\n",
      "[81.70624580255205, 73.23129617192747, 74.7721961047683, 81.32102081934184, 87.09939556749497, 87.86984553391538]\n"
     ]
    }
   ],
   "source": [
    "print([element for element in x])\n",
    "print([fn(element) for element in x])"
   ]
  },
  {
   "cell_type": "code",
   "execution_count": 34,
   "metadata": {},
   "outputs": [
    {
     "data": {
      "image/png": "[encoded data removed]",
      "text/plain": [
       "<Figure size 432x288 with 1 Axes>"
      ]
     },
     "metadata": {
      "needs_background": "light"
     },
     "output_type": "display_data"
    }
   ],
   "source": [
    "figure_regression = plt.figure()\n",
    "f_axes = figure_regression.add_subplot(111)\n",
    "f_axes.scatter(x, y)\n",
    "f_axes.plot(x, [fn(element) for element in x])\n",
    "\n",
    "\n",
    "# add a grid\n",
    "plt.grid()\n",
    "\n",
    "# show the plot\n",
    "plt.show()"
   ]
  },
  {
   "cell_type": "code",
   "execution_count": 38,
   "metadata": {},
   "outputs": [
    {
     "data": {
      "text/plain": [
       "LinearRegression(copy_X=True, fit_intercept=True, n_jobs=1, normalize=False)"
      ]
     },
     "execution_count": 38,
     "metadata": {},
     "output_type": "execute_result"
    }
   ],
   "source": [
    "# short version using sklearn (Scikit-learn)\n",
    "\n",
    "from sklearn import linear_model\n",
    "regression = linear_model.LinearRegression()\n",
    "regression.fit(np.reshape(x, newshape=(-1, 1)), np.reshape(y, newshape=(-1, 1)))"
   ]
  },
  {
   "cell_type": "code",
   "execution_count": 39,
   "metadata": {},
   "outputs": [
    {
     "data": {
      "image/png": "[encoded data removed]",
      "text/plain": [
       "<Figure size 432x288 with 1 Axes>"
      ]
     },
     "metadata": {
      "needs_background": "light"
     },
     "output_type": "display_data"
    }
   ],
   "source": [
    "figure_regression_sklearn = plt.figure()\n",
    "f_axes = figure_regression_sklearn.add_subplot(111)\n",
    "f_axes.scatter(x, y)\n",
    "f_axes.plot(x, regression.predict(np.reshape(x, newshape=(-1, 1))))\n",
    "\n",
    "plt.grid()\n",
    "\n",
    "plt.show()"
   ]
  },
  {
   "cell_type": "markdown",
   "metadata": {},
   "source": [
    "#### Softmax Regression\n",
    "\n",
    "Softmax is used for representing a categorical distribution, i.e. probability distribution over $N$ unique possible outcomes. It is commonly used for multiclass classification problems, most notably in neural networks. Formally defining it as\n",
    "\n",
    "\\\\[\\sigma(x)_j = \\dfrac{e^{x_j}}{\\sum_{n=0}^{N} e^{x_n}}\\ \\ \\ for\\ j\\ =\\ 0,\\ \\ldots,\\ N.\\\\]\n",
    "\n",
    "In other words, softmax is used to 'squash' a $N$-dimensional vector $x$ of arbitrary values to a $N$-dimensional vector of $\\sigma(x) \\in \\mathbb{R} [0, 1]$."
   ]
  },
  {
   "cell_type": "code",
   "execution_count": 40,
   "metadata": {},
   "outputs": [],
   "source": [
    "# define a vector with arbitrary values\n",
    "labels = [0, 0, 0, 0, 2, 1, 0, 0, 0, 0]"
   ]
  },
  {
   "cell_type": "code",
   "execution_count": 41,
   "metadata": {},
   "outputs": [],
   "source": [
    "def softmax(vector):\n",
    "    return np.exp([element for element in vector]) / np.sum(np.exp([element for element in vector]))"
   ]
  },
  {
   "cell_type": "code",
   "execution_count": 42,
   "metadata": {},
   "outputs": [
    {
     "data": {
      "text/plain": [
       "array([0.05522623, 0.05522623, 0.05522623, 0.05522623, 0.40806971,\n",
       "       0.15012046, 0.05522623, 0.05522623, 0.05522623, 0.05522623])"
      ]
     },
     "execution_count": 42,
     "metadata": {},
     "output_type": "execute_result"
    }
   ],
   "source": [
    "softmax(labels)"
   ]
  },
  {
   "cell_type": "code",
   "execution_count": 43,
   "metadata": {},
   "outputs": [
    {
     "data": {
      "text/plain": [
       "1.0000000000000002"
      ]
     },
     "execution_count": 43,
     "metadata": {},
     "output_type": "execute_result"
    }
   ],
   "source": [
    "# this must give a sum of 1 or near 1\n",
    "sum(softmax(labels))"
   ]
  },
  {
   "cell_type": "code",
   "execution_count": 44,
   "metadata": {},
   "outputs": [],
   "source": [
    "# re-define the vector with a set of new arbitrary values\n",
    "labels = [4, 3, 2, 1, 10, 1, 0, 0, 5, 6]"
   ]
  },
  {
   "cell_type": "code",
   "execution_count": 45,
   "metadata": {},
   "outputs": [
    {
     "data": {
      "text/plain": [
       "array([2.40861967e-03, 8.86081658e-04, 3.25971225e-04, 1.19918112e-04,\n",
       "       9.71706527e-01, 1.19918112e-04, 4.41154081e-05, 4.41154081e-05,\n",
       "       6.54730708e-03, 1.77974259e-02])"
      ]
     },
     "execution_count": 45,
     "metadata": {},
     "output_type": "execute_result"
    }
   ],
   "source": [
    "softmax(labels)"
   ]
  },
  {
   "cell_type": "code",
   "execution_count": 46,
   "metadata": {},
   "outputs": [
    {
     "data": {
      "text/plain": [
       "1.0000000000000002"
      ]
     },
     "execution_count": 46,
     "metadata": {},
     "output_type": "execute_result"
    }
   ],
   "source": [
    "sum(softmax(labels))"
   ]
  },
  {
   "cell_type": "markdown",
   "metadata": {},
   "source": [
    "Based on the two sets of vector, you can see that no matter the value, the sume of the set will always be equal to 1 (or near 1).\n",
    "\n",
    "\n",
    "Hence, the $N$-dimensional vector of $\\sigma(x) \\in \\mathbb{R}[0, 1]$."
   ]
  },
  {
   "cell_type": "markdown",
   "metadata": {},
   "source": []
  }
 ],
 "metadata": {
  "kernelspec": {
   "display_name": "Python 3",
   "language": "python",
   "name": "python3"
  },
  "language_info": {
   "codemirror_mode": {
    "name": "ipython",
    "version": 3
   },
   "file_extension": ".py",
   "mimetype": "text/x-python",
   "name": "python",
   "nbconvert_exporter": "python",
   "pygments_lexer": "ipython3",
   "version": "3.7.0"
  }
 },
 "nbformat": 4,
 "nbformat_minor": 2
}
